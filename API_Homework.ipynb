{
  "nbformat": 4,
  "nbformat_minor": 0,
  "metadata": {
    "colab": {
      "provenance": [],
      "authorship_tag": "ABX9TyOIic1p7aVuEL8yT5j3k0do",
      "include_colab_link": true
    },
    "kernelspec": {
      "name": "python3",
      "display_name": "Python 3"
    },
    "language_info": {
      "name": "python"
    }
  },
  "cells": [
    {
      "cell_type": "markdown",
      "metadata": {
        "id": "view-in-github",
        "colab_type": "text"
      },
      "source": [
        "<a href=\"https://colab.research.google.com/github/ToriStoner/Assignment-2-Data-/blob/main/API_Homework.ipynb\" target=\"_parent\"><img src=\"https://colab.research.google.com/assets/colab-badge.svg\" alt=\"Open In Colab\"/></a>"
      ]
    },
    {
      "cell_type": "code",
      "execution_count": 20,
      "metadata": {
        "id": "5d1EwwSPnfZL"
      },
      "outputs": [],
      "source": [
        "#create python code that takes a user input for a stock\n",
        "\n",
        "import json\n",
        "import pandas as pd\n",
        "import requests\n"
      ]
    },
    {
      "cell_type": "code",
      "source": [
        "stock=input()"
      ],
      "metadata": {
        "colab": {
          "base_uri": "https://localhost:8080/"
        },
        "id": "k3SHxBFcas_U",
        "outputId": "a2b5de66-cc22-439d-b17e-6e03762cf76c"
      },
      "execution_count": 21,
      "outputs": [
        {
          "name": "stdout",
          "output_type": "stream",
          "text": [
            "AAPL\n"
          ]
        }
      ]
    },
    {
      "cell_type": "code",
      "source": [
        "print(\"The Stock we will research is:\" + stock)"
      ],
      "metadata": {
        "colab": {
          "base_uri": "https://localhost:8080/"
        },
        "id": "2EPQ_we7av8r",
        "outputId": "2520e4e0-69e9-44a4-eeb7-062d36a28302"
      },
      "execution_count": 22,
      "outputs": [
        {
          "output_type": "stream",
          "name": "stdout",
          "text": [
            "The Stock we will research is:AAPL\n"
          ]
        }
      ]
    },
    {
      "cell_type": "code",
      "source": [
        "apikey=\"RX5XAwloUg35lvJCyosjzacIKmAVKHuc6ftrXN7H\"\n",
        "\n",
        "url = 'https://yfapi.net/v8/finance/chart/AAPL?comparisons=MSFT%2C%5EVIX&range=1mo&region=US&interval=1d&lang=en&events=div%2Csplit'\n",
        "\n",
        "querystring = {\"symbols\":stock}\n",
        "\n",
        "headers = {\n",
        "    'x-api-key': apikey\n",
        "    }\n",
        "\n",
        "response = requests.request(\"GET\", url, headers=headers, params=querystring)\n",
        "\n",
        "print(response.text)"
      ],
      "metadata": {
        "colab": {
          "base_uri": "https://localhost:8080/"
        },
        "id": "06jSBfwuayYb",
        "outputId": "d2d2e7a1-af8f-4fcc-9637-e96a09548882"
      },
      "execution_count": 27,
      "outputs": [
        {
          "output_type": "stream",
          "name": "stdout",
          "text": [
            "{\"chart\":{\"result\":[{\"meta\":{\"currency\":\"USD\",\"symbol\":\"AAPL\",\"exchangeName\":\"NMS\",\"fullExchangeName\":\"NasdaqGS\",\"instrumentType\":\"EQUITY\",\"firstTradeDate\":345479400,\"regularMarketTime\":1727812801,\"hasPrePostMarketData\":true,\"gmtoffset\":-14400,\"timezone\":\"EDT\",\"exchangeTimezoneName\":\"America/New_York\",\"regularMarketPrice\":226.21,\"fiftyTwoWeekHigh\":229.62,\"fiftyTwoWeekLow\":223.74,\"regularMarketDayHigh\":229.62,\"regularMarketDayLow\":223.74,\"regularMarketVolume\":62242481,\"longName\":\"Apple Inc.\",\"shortName\":\"Apple Inc.\",\"chartPreviousClose\":229.0,\"priceHint\":2,\"currentTradingPeriod\":{\"pre\":{\"timezone\":\"EDT\",\"start\":1727769600,\"end\":1727789400,\"gmtoffset\":-14400},\"regular\":{\"timezone\":\"EDT\",\"start\":1727789400,\"end\":1727812800,\"gmtoffset\":-14400},\"post\":{\"timezone\":\"EDT\",\"start\":1727812800,\"end\":1727827200,\"gmtoffset\":-14400}},\"dataGranularity\":\"1d\",\"range\":\"1mo\",\"validRanges\":[\"2y\",\"1y\",\"1d\",\"6mo\",\"max\",\"1mo\",\"10y\",\"ytd\",\"5y\",\"3mo\",\"5d\"]},\"timestamp\":[1725370200,1725456600,1725543000,1725629400,1725888600,1725975000,1726061400,1726147800,1726234200,1726493400,1726579800,1726666200,1726752600,1726839000,1727098200,1727184600,1727271000,1727357400,1727443800,1727703000,1727812801],\"comparisons\":[{\"symbol\":\"MSFT\",\"high\":[419.88,411.24,413.1,410.65,408.65,416.33,423.99,427.37,431.83,433.53,441.85,436.03,441.5,439.24,436.46,433.35,433.12,435.3,431.85,430.42,428.47],\"low\":[407.03,404.37,406.13,400.8,402.15,407.7,409.58,419.75,425.46,428.22,432.27,430.41,436.9,434.22,430.39,426.1,428.57,429.13,427.47,425.37,418.825],\"chartPreviousClose\":417.14,\"close\":[409.44,408.9,408.39,401.7,405.72,414.2,423.04,427.0,430.59,431.34,435.15,430.81,438.69,435.27,433.51,429.17,432.11,431.31,428.02,430.3,420.69],\"open\":[417.91,405.91,407.62,409.06,407.24,408.2,415.5,423.31,425.83,430.6,440.23,435.0,441.23,437.22,434.28,433.0,429.83,435.09,431.52,428.21,428.38]},{\"symbol\":\"^VIX\",\"high\":[21.99,23.31,21.53,23.76,21.41,20.74,21.41,18.59,17.18,17.69,18.08,19.39,17.27,16.68,16.95,16.67,15.82,15.83,16.97,17.79,20.73],\"low\":[15.71,19.34,19.21,18.83,19.29,18.9,17.55,16.89,16.23,16.91,16.67,17.11,16.21,15.81,15.75,15.27,15.17,14.9,15.2,16.47,16.61],\"chartPreviousClose\":15.0,\"close\":[20.72,21.32,19.9,22.38,19.45,19.08,17.69,17.07,16.56,17.14,17.61,18.23,16.33,16.15,15.89,15.39,15.41,15.37,16.96,16.73,19.26],\"open\":[15.76,23.2,20.75,21.98,21.32,19.86,19.41,17.62,17.03,17.16,17.16,17.58,17.21,16.35,16.71,15.87,15.82,15.06,15.64,17.01,16.96]}],\"indicators\":{\"quote\":[{\"high\":[229.0,221.77999877929688,225.47999572753906,225.24000549316406,221.27000427246094,221.47999572753906,223.08999633789062,223.5500030517578,224.0399932861328,217.22000122070312,216.89999389648438,222.7100067138672,229.82000732421875,233.08999633789062,229.4499969482422,229.35000610351562,227.2899932861328,228.5,229.52000427246094,233.0,229.6199951171875],\"open\":[228.5500030517578,221.66000366210938,221.6300048828125,223.9499969482422,220.82000732421875,218.9199981689453,221.4600067138672,222.5,223.5800018310547,216.5399932861328,215.75,217.5500030517578,224.99000549316406,229.97000122070312,227.33999633789062,228.64999389648438,224.92999267578125,227.3000030517578,228.4600067138672,230.0399932861328,229.5500030517578],\"low\":[221.1699981689453,217.47999572753906,221.52000427246094,219.77000427246094,216.7100067138672,216.72999572753906,217.88999938964844,219.82000732421875,221.91000366210938,213.9199981689453,214.5,217.5399932861328,224.6300048828125,227.6199951171875,225.80999755859375,225.72999572753906,224.02000427246094,225.41000366210938,227.3000030517578,229.64999389648438,223.74000549316406],\"close\":[222.77000427246094,220.85000610351562,222.3800048828125,220.82000732421875,220.91000366210938,220.11000061035156,222.66000366210938,222.77000427246094,222.5,216.32000732421875,216.7899932861328,220.69000244140625,228.8699951171875,228.1999969482422,226.47000122070312,227.3699951171875,226.3699951171875,227.52000427246094,227.7899932861328,233.0,226.2100067138672],\"volume\":[50190600,43840200,36615400,48423000,67180000,51591000,44587100,37498200,36766600,59357400,45519300,59894900,66781300,318679900,54146000,43556100,42308700,36636700,34026000,54541900,62242481]}],\"adjclose\":[{\"adjclose\":[222.77000427246094,220.85000610351562,222.3800048828125,220.82000732421875,220.91000366210938,220.11000061035156,222.66000366210938,222.77000427246094,222.5,216.32000732421875,216.7899932861328,220.69000244140625,228.8699951171875,228.1999969482422,226.47000122070312,227.3699951171875,226.3699951171875,227.52000427246094,227.7899932861328,233.0,226.2100067138672]}]}}],\"error\":null}}\n"
          ]
        }
      ]
    },
    {
      "cell_type": "code",
      "source": [
        "#ticker name, full name of stock, current market price\n",
        "#target mean price, 52 week high and low\n",
        "#5 of the current trending stock\n",
        "\n",
        "stock_json = response.json()\n",
        "\n",
        "api_one = print(stock_json['chart']['result'][0]['comparisons'][0]['symbol'] + \" Long Name: \" + stock_json['chart']['result'][0]['meta'][\"longName\"] + \" Current Market Price: \" +\n",
        "      str(stock_json['chart']['result'][0]['meta']['regularMarketPrice']) + \" 52 Week High: \" + str(stock_json['chart']['result'][0]['meta']['fiftyTwoWeekHigh']) + \" 52 Week Low: \" + str(stock_json['chart']['result'][0]['meta']['fiftyTwoWeekLow']) )"
      ],
      "metadata": {
        "colab": {
          "base_uri": "https://localhost:8080/"
        },
        "id": "br5vMzXGb9M8",
        "outputId": "eb9c1f9a-69bf-4a4b-ece1-6658bc2f54e7"
      },
      "execution_count": 59,
      "outputs": [
        {
          "output_type": "stream",
          "name": "stdout",
          "text": [
            "MSFT Long Name: Apple Inc. Current Market Price: 226.21 52 Week High: 229.62 52 Week Low: 223.74\n"
          ]
        }
      ]
    },
    {
      "cell_type": "code",
      "source": [
        "df = pd.DataFrame(api_one)\n"
      ],
      "metadata": {
        "id": "541uKKxnEpsF"
      },
      "execution_count": 60,
      "outputs": []
    },
    {
      "cell_type": "code",
      "source": [
        "apikey=\"RX5XAwloUg35lvJCyosjzacIKmAVKHuc6ftrXN7H\"\n",
        "\n",
        "url = 'https://yfapi.net/v11/finance/quoteSummary/AAPL?lang=en&region=US&modules=financialData'\n",
        "\n",
        "querystring = {\"symbols\":stock}\n",
        "\n",
        "headers = {\n",
        "    'x-api-key': apikey\n",
        "    }\n",
        "\n",
        "second = requests.request(\"GET\", url, headers=headers, params=querystring)\n",
        "\n",
        "print(second.text)"
      ],
      "metadata": {
        "colab": {
          "base_uri": "https://localhost:8080/"
        },
        "id": "EcnOTfHTo7-y",
        "outputId": "180beb13-5ebe-49ea-d8a1-a300b3a08238"
      },
      "execution_count": 47,
      "outputs": [
        {
          "output_type": "stream",
          "name": "stdout",
          "text": [
            "{\"quoteSummary\":{\"result\":[{\"financialData\":{\"maxAge\":86400,\"currentPrice\":{\"raw\":226.21,\"fmt\":\"226.21\"},\"targetHighPrice\":{\"raw\":300.0,\"fmt\":\"300.00\"},\"targetLowPrice\":{\"raw\":183.86,\"fmt\":\"183.86\"},\"targetMeanPrice\":{\"raw\":240.58,\"fmt\":\"240.58\"},\"targetMedianPrice\":{\"raw\":243.0,\"fmt\":\"243.00\"},\"recommendationMean\":{\"raw\":2.0,\"fmt\":\"2.00\"},\"recommendationKey\":\"buy\",\"numberOfAnalystOpinions\":{\"raw\":40,\"fmt\":\"40\",\"longFmt\":\"40\"},\"totalCash\":{\"raw\":61801000960,\"fmt\":\"61.8B\",\"longFmt\":\"61,801,000,960\"},\"totalCashPerShare\":{\"raw\":4.065,\"fmt\":\"4.07\"},\"ebitda\":{\"raw\":131781001216,\"fmt\":\"131.78B\",\"longFmt\":\"131,781,001,216\"},\"totalDebt\":{\"raw\":101304000512,\"fmt\":\"101.3B\",\"longFmt\":\"101,304,000,512\"},\"quickRatio\":{\"raw\":0.798,\"fmt\":\"0.80\"},\"currentRatio\":{\"raw\":0.953,\"fmt\":\"0.95\"},\"totalRevenue\":{\"raw\":385603010560,\"fmt\":\"385.6B\",\"longFmt\":\"385,603,010,560\"},\"debtToEquity\":{\"raw\":151.862,\"fmt\":\"151.86%\"},\"revenuePerShare\":{\"raw\":24.957,\"fmt\":\"24.96\"},\"returnOnAssets\":{\"raw\":0.22612,\"fmt\":\"22.61%\"},\"returnOnEquity\":{\"raw\":1.60583,\"fmt\":\"160.58%\"},\"grossProfits\":{},\"freeCashflow\":{\"raw\":86158123008,\"fmt\":\"86.16B\",\"longFmt\":\"86,158,123,008\"},\"operatingCashflow\":{\"raw\":113040998400,\"fmt\":\"113.04B\",\"longFmt\":\"113,040,998,400\"},\"earningsGrowth\":{\"raw\":0.111,\"fmt\":\"11.10%\"},\"revenueGrowth\":{\"raw\":0.049,\"fmt\":\"4.90%\"},\"grossMargins\":{\"raw\":0.45962003,\"fmt\":\"45.96%\"},\"ebitdaMargins\":{\"raw\":0.34175,\"fmt\":\"34.17%\"},\"operatingMargins\":{\"raw\":0.29556,\"fmt\":\"29.56%\"},\"profitMargins\":{\"raw\":0.26441,\"fmt\":\"26.44%\"},\"financialCurrency\":\"USD\"}}],\"error\":null}}\n"
          ]
        }
      ]
    },
    {
      "cell_type": "code",
      "source": [
        "target_json = second.json()\n",
        "\n",
        "api_two = print(target_json['quoteSummary']['result'][0]['financialData']['targetHighPrice'])\n"
      ],
      "metadata": {
        "colab": {
          "base_uri": "https://localhost:8080/"
        },
        "id": "-PJtW8Ft_4nV",
        "outputId": "ed758e76-55d0-4c6a-ff9a-332f673b26b9"
      },
      "execution_count": 61,
      "outputs": [
        {
          "output_type": "stream",
          "name": "stdout",
          "text": [
            "{'raw': 300.0, 'fmt': '300.00'}\n"
          ]
        }
      ]
    },
    {
      "cell_type": "code",
      "source": [
        "df2 = pd.DataFrame(api_two)\n"
      ],
      "metadata": {
        "id": "AGZVXPW2EybD"
      },
      "execution_count": 62,
      "outputs": []
    },
    {
      "cell_type": "code",
      "source": [
        "apikey=\"RX5XAwloUg35lvJCyosjzacIKmAVKHuc6ftrXN7H\"\n",
        "\n",
        "url = 'https://yfapi.net/v1/finance/trending/US'\n",
        "\n",
        "\n",
        "querystring = {\"symbols\":stock}\n",
        "\n",
        "headers = {\n",
        "    'x-api-key': apikey\n",
        "    }\n",
        "\n",
        "third = requests.request(\"GET\", url, headers=headers, params=querystring)\n",
        "\n",
        "print(third.text)"
      ],
      "metadata": {
        "colab": {
          "base_uri": "https://localhost:8080/"
        },
        "id": "rvAGmztMAqV2",
        "outputId": "c3a986a6-428d-4652-87ca-681c7deb3710"
      },
      "execution_count": 48,
      "outputs": [
        {
          "output_type": "stream",
          "name": "stdout",
          "text": [
            "{\"finance\":{\"result\":[{\"count\":20,\"quotes\":[{\"symbol\":\"NKE\"},{\"symbol\":\"HUM\"},{\"symbol\":\"LMT\"},{\"symbol\":\"CL=F\"},{\"symbol\":\"INDO\"},{\"symbol\":\"^VIX\"},{\"symbol\":\"VST\"},{\"symbol\":\"BILI\"},{\"symbol\":\"OXY\"},{\"symbol\":\"9618.HK\"},{\"symbol\":\"BTC-USD\"},{\"symbol\":\"BEKE\"},{\"symbol\":\"RTX\"},{\"symbol\":\"XOM\"},{\"symbol\":\"0388.HK\"},{\"symbol\":\"1299.HK\"},{\"symbol\":\"LPLA\"},{\"symbol\":\"EONR\"},{\"symbol\":\"0883.HK\"},{\"symbol\":\"ARCO\"}],\"jobTimestamp\":1727835036461,\"startInterval\":202410020100}],\"error\":null}}\n"
          ]
        }
      ]
    },
    {
      "cell_type": "code",
      "source": [
        "trending_json = third.json()\n"
      ],
      "metadata": {
        "id": "YvV1fU25Bd3I"
      },
      "execution_count": 57,
      "outputs": []
    },
    {
      "cell_type": "code",
      "source": [
        "api_three = []\n",
        "for i in trending_json['finance']['result'][0]['quotes'][:5]:\n",
        "  for value in i.values():\n",
        "    api_three.append(value)\n",
        "\n",
        "print(api_three)\n",
        "\n",
        ""
      ],
      "metadata": {
        "colab": {
          "base_uri": "https://localhost:8080/"
        },
        "id": "QIU1hmQaDtlQ",
        "outputId": "d470680b-cf7a-4fe3-a0fa-1a1cd5ff9cc8"
      },
      "execution_count": 64,
      "outputs": [
        {
          "output_type": "stream",
          "name": "stdout",
          "text": [
            "['NKE', 'HUM', 'LMT', 'CL=F', 'INDO']\n"
          ]
        }
      ]
    },
    {
      "cell_type": "code",
      "source": [
        "df3 = pd.DataFrame(api_three)"
      ],
      "metadata": {
        "id": "AOvXchQFFYWw"
      },
      "execution_count": 66,
      "outputs": []
    },
    {
      "cell_type": "code",
      "source": [
        "combined_df = pd.concat([df, df2, df3], axis = 1)"
      ],
      "metadata": {
        "id": "-mccJDj2Fdn7"
      },
      "execution_count": 67,
      "outputs": []
    },
    {
      "cell_type": "code",
      "source": [
        "print(combined_df)"
      ],
      "metadata": {
        "colab": {
          "base_uri": "https://localhost:8080/"
        },
        "id": "5lb86nj9FpXj",
        "outputId": "6048c08a-8bdf-421d-80bf-798bae0e1ac6"
      },
      "execution_count": 68,
      "outputs": [
        {
          "output_type": "stream",
          "name": "stdout",
          "text": [
            "      0\n",
            "0   NKE\n",
            "1   HUM\n",
            "2   LMT\n",
            "3  CL=F\n",
            "4  INDO\n"
          ]
        }
      ]
    }
  ]
}