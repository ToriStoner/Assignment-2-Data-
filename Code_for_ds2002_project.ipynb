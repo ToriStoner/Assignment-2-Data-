{
  "nbformat": 4,
  "nbformat_minor": 0,
  "metadata": {
    "colab": {
      "provenance": [],
      "authorship_tag": "ABX9TyOL07IqWURagkUWeYD5/i7O",
      "include_colab_link": true
    },
    "kernelspec": {
      "name": "python3",
      "display_name": "Python 3"
    },
    "language_info": {
      "name": "python"
    }
  },
  "cells": [
    {
      "cell_type": "markdown",
      "metadata": {
        "id": "view-in-github",
        "colab_type": "text"
      },
      "source": [
        "<a href=\"https://colab.research.google.com/github/ToriStoner/Assignment-2-Data-/blob/main/Code_for_ds2002_project.ipynb\" target=\"_parent\"><img src=\"https://colab.research.google.com/assets/colab-badge.svg\" alt=\"Open In Colab\"/></a>"
      ]
    },
    {
      "cell_type": "code",
      "execution_count": null,
      "metadata": {
        "id": "Ic8FJi6dPTf7"
      },
      "outputs": [],
      "source": [
        "graph3_corr = gapmhealth['Sexual Violence Rate'].corr(gapmhealth['Alcohol use disorders (%)'])\n",
        "\n",
        "graph1_corr = gapmhealth['Sexual Violence Rate'].corr(gapmhealth['Population'])\n",
        "\n",
        "graph2_corr = gapmhealth['Sexual Violence Rate'].corr(gapmhealth['Year'])\n",
        "\n",
        "\n",
        "#corr for infant mortality rate and depression\n",
        "graph4_corr = gapmhealth['infant_mortality'].corr(gapmhealth['Depression (%)'])\n",
        "\n",
        "#graph for infant mortality rate and depression\n",
        "\n",
        "sb.scatterplot(x='Depression (%)', y='infant_mortality',hue='continent', data=gap_mhealth)\n",
        "\n",
        "\n",
        "#Other basic descriptive statistics- mean, mode, etc. of population, sexual violence rate, alcohol use disorders\n",
        "\n",
        "gap_mhealth['Population'].shape()\n",
        "gap_mhealth['Sexual Violence Rate'].shape()\n",
        "gap_mhealth['Alcohol use disorders (%)'].shape()\n",
        "\n",
        "\n",
        "#Graph of mean population per country\n",
        "\n",
        "mean_population = gap_mhealth.groupby('Country')['Population'].mean().reset_index()\n",
        "top_10_countries = mean_population.sort_values(by=['Population'], ascending=False).head(10)\n",
        "plt.figure(figsize=(10, 6))  # Adjust figure size as needed\n",
        "sns.barplot(x='Country', y='Population', data=top_10_countries)\n",
        "plt.title('Mean Population of top 10 countries')\n",
        "plt.xlabel('Country')\n",
        "plt.ylabel('Mean Population')\n",
        "plt.xticks(rotation=45)  # Rotate x-axis labels for better readability\n",
        "plt.tight_layout()\n",
        "plt.show()\n",
        "\n",
        "\n",
        "#graph of mean sexual violence rate per country\n",
        "mean_sexual_violence_rate = gap_mhealth.groupby('Country')['Sexual Violence Rate'].mean().reset_index()\n",
        "top_10_rate = mean_sexual_violence_rate.sort_values(by=['Sexual Violence Rate'], ascending=False).head(10)\n",
        "plt.figure(figsize=(10, 6))  # Adjust figure size as needed\n",
        "sns.barplot(x='Country', y='Sexual Violence Rate', data=top_10_rate)\n",
        "plt.title('Mean Sexual Violence Rate of top 10 countries')\n",
        "plt.xlabel('Country')\n",
        "plt.ylabel('Mean Sexual Violence Rate')\n",
        "plt.xticks(rotation=45)  # Rotate x-axis labels for better readability\n",
        "plt.tight_layout()\n",
        "plt.show()\n",
        "\n",
        "\n",
        "#graph of mean sexual violence rate per country\n",
        "mean_alcohol_use_disorders = gap_mhealth.groupby('Country')['Alcohol use disorders (%)'].mean().reset_index()\n",
        "top_10_alcohol = mean_alcohol_use_disorders.sort_values(by=['Alcohol use disorders (%)'], ascending=False).head(10)\n",
        "plt.figure(figsize=(10, 6))  # Adjust figure size as needed\n",
        "sns.barplot(x='Country', y='Alcohol use disorders (%)', data=mean_sexual_violence_rate)\n",
        "plt.title('Mean Alcohol use disorder percentages of top 10 countries')\n",
        "plt.xlabel('Country')\n",
        "plt.ylabel('Mean Alcohol use disorder percentages')\n",
        "plt.xticks(rotation=45)  # Rotate x-axis labels for better readability\n",
        "plt.tight_layout()\n",
        "plt.show()\n",
        "\n",
        "\n",
        "\n",
        "\n",
        "\n",
        "\n"
      ]
    }
  ]
}