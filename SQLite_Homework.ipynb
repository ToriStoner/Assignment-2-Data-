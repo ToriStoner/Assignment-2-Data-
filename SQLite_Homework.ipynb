{
  "nbformat": 4,
  "nbformat_minor": 0,
  "metadata": {
    "colab": {
      "provenance": [],
      "authorship_tag": "ABX9TyO2qmYK8d5I4Y1SJW+IR5R5",
      "include_colab_link": true
    },
    "kernelspec": {
      "name": "python3",
      "display_name": "Python 3"
    },
    "language_info": {
      "name": "python"
    }
  },
  "cells": [
    {
      "cell_type": "markdown",
      "metadata": {
        "id": "view-in-github",
        "colab_type": "text"
      },
      "source": [
        "<a href=\"https://colab.research.google.com/github/ToriStoner/Assignment-2-Data-/blob/main/SQLite_Homework.ipynb\" target=\"_parent\"><img src=\"https://colab.research.google.com/assets/colab-badge.svg\" alt=\"Open In Colab\"/></a>"
      ]
    },
    {
      "cell_type": "code",
      "execution_count": 1,
      "metadata": {
        "colab": {
          "base_uri": "https://localhost:8080/"
        },
        "id": "wZm80Sh_QRoc",
        "outputId": "1e021e63-0eff-48a9-f365-ef695b988c82"
      },
      "outputs": [
        {
          "output_type": "stream",
          "name": "stdout",
          "text": [
            "Database created and connected!\n"
          ]
        }
      ],
      "source": [
        "#Create a connection to an SQLite database\n",
        "import sqlite3\n",
        "connection = sqlite3.connect('student_grades.db')\n",
        "print(\"Database created and connected!\")"
      ]
    },
    {
      "cell_type": "code",
      "source": [
        "# Create a cursor object\n",
        "cursor = connection.cursor()\n",
        "\n",
        "# Explanation\n",
        "print(\"Cursor created!\")"
      ],
      "metadata": {
        "colab": {
          "base_uri": "https://localhost:8080/"
        },
        "id": "4a2e5EBERDDj",
        "outputId": "c1274803-b5f8-4ed5-8048-d27739d5e6f5"
      },
      "execution_count": 2,
      "outputs": [
        {
          "output_type": "stream",
          "name": "stdout",
          "text": [
            "Cursor created!\n"
          ]
        }
      ]
    },
    {
      "cell_type": "code",
      "source": [
        "#create students table\n",
        "cursor.execute('''\n",
        "CREATE TABLE IF NOT EXISTS students (\n",
        "    student_id INTEGER PRIMARY KEY AUTOINCREMENT,\n",
        "    first_name TEXT,\n",
        "    last_name TEXT\n",
        ")\n",
        "''')\n",
        "\n",
        "print(\"Sales table created!\")"
      ],
      "metadata": {
        "colab": {
          "base_uri": "https://localhost:8080/"
        },
        "id": "RLeVTVMMRI5G",
        "outputId": "87330abe-d4a9-467d-9a04-421dbf2d1c51"
      },
      "execution_count": 3,
      "outputs": [
        {
          "output_type": "stream",
          "name": "stdout",
          "text": [
            "Sales table created!\n"
          ]
        }
      ]
    },
    {
      "cell_type": "code",
      "source": [
        "#create grades table\n",
        "cursor.execute('''\n",
        "CREATE TABLE IF NOT EXISTS grades (\n",
        "    grade_id INTEGER PRIMARY KEY AUTOINCREMENT,\n",
        "    student_id INTEGER,\n",
        "    subject TEXT,\n",
        "    grade INTEGER,\n",
        "    FOREIGN KEY(student_id) REFERENCES students(student_id)\n",
        "\n",
        ")\n",
        "''')\n",
        "\n",
        "print(\"Sales table created!\")"
      ],
      "metadata": {
        "colab": {
          "base_uri": "https://localhost:8080/"
        },
        "id": "j8g2yGoTRq0n",
        "outputId": "4e298ffa-60e6-4232-96ea-cfeb5dde7037"
      },
      "execution_count": 5,
      "outputs": [
        {
          "output_type": "stream",
          "name": "stdout",
          "text": [
            "Sales table created!\n"
          ]
        }
      ]
    },
    {
      "cell_type": "code",
      "source": [
        "#insert data into student table\n",
        "student_data = [\n",
        "    (1, 'Alice', 'Johnson'),\n",
        "    (2, 'Bob', 'Smith'),\n",
        "    (3, 'Carol', 'White'),\n",
        "    (4, 'David', 'Brown'),\n",
        "    (5, 'Eve', 'Davis')\n",
        "]\n",
        "\n",
        "# Insert data into the table\n",
        "cursor.executemany('''\n",
        "INSERT INTO students (student_id, first_name, last_name) VALUES (?, ?, ?)\n",
        "''', student_data)\n",
        "\n",
        "# Commit the transaction\n",
        "connection.commit()\n",
        "\n",
        "print(\"Data inserted into the student table!\")"
      ],
      "metadata": {
        "colab": {
          "base_uri": "https://localhost:8080/"
        },
        "id": "Yy2FzNeRrYWU",
        "outputId": "9d91a473-b432-453a-80ce-18cbfd69d3c4"
      },
      "execution_count": 6,
      "outputs": [
        {
          "output_type": "stream",
          "name": "stdout",
          "text": [
            "Data inserted into the student table!\n"
          ]
        }
      ]
    },
    {
      "cell_type": "code",
      "source": [
        "# insert data into grades table\n",
        "grades_data = [\n",
        "    (1,1,'Math',95),\n",
        "    (2,1,'English',88),\n",
        "    (3,1,'History', 90),\n",
        "    (4,2,'Math', 82),\n",
        "    (5,2,'English',76),\n",
        "    (6,2,'History',85)\n",
        "]\n",
        "\n",
        "# Insert data into the flavor_details table\n",
        "cursor.executemany('''\n",
        "INSERT INTO grades (grade_id, student_id, subject, grade) VALUES (?,?, ?, ?)\n",
        "''', grades_data)\n",
        "\n",
        "# Commit the transaction\n",
        "connection.commit()\n",
        "\n",
        "print(\"Data inserted into the grades table!\")\n"
      ],
      "metadata": {
        "colab": {
          "base_uri": "https://localhost:8080/"
        },
        "id": "D_Fw24lXslSm",
        "outputId": "ed30461f-8ed8-43b6-cd39-dc13249c6537"
      },
      "execution_count": 9,
      "outputs": [
        {
          "output_type": "stream",
          "name": "stdout",
          "text": [
            "Data inserted into the flavor details table!\n"
          ]
        }
      ]
    },
    {
      "cell_type": "code",
      "source": [
        "#Retrieve all students' names and their grades\n",
        "\n"
      ],
      "metadata": {
        "id": "dk9ASIXwt2xD"
      },
      "execution_count": null,
      "outputs": []
    }
  ]
}