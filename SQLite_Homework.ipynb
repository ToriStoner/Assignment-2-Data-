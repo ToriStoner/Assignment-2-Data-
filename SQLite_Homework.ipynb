{
  "nbformat": 4,
  "nbformat_minor": 0,
  "metadata": {
    "colab": {
      "provenance": [],
      "authorship_tag": "ABX9TyML6iSnDRw/Wn8vQOpGnE3N",
      "include_colab_link": true
    },
    "kernelspec": {
      "name": "python3",
      "display_name": "Python 3"
    },
    "language_info": {
      "name": "python"
    }
  },
  "cells": [
    {
      "cell_type": "markdown",
      "metadata": {
        "id": "view-in-github",
        "colab_type": "text"
      },
      "source": [
        "<a href=\"https://colab.research.google.com/github/ToriStoner/Assignment-2-Data-/blob/main/SQLite_Homework.ipynb\" target=\"_parent\"><img src=\"https://colab.research.google.com/assets/colab-badge.svg\" alt=\"Open In Colab\"/></a>"
      ]
    },
    {
      "cell_type": "code",
      "execution_count": 1,
      "metadata": {
        "colab": {
          "base_uri": "https://localhost:8080/"
        },
        "id": "wZm80Sh_QRoc",
        "outputId": "5edc4ee6-09a9-42d9-efb0-b53963f5ab38"
      },
      "outputs": [
        {
          "output_type": "stream",
          "name": "stdout",
          "text": [
            "Database created and connected!\n"
          ]
        }
      ],
      "source": [
        "import sqlite3\n",
        "connection = sqlite3.connect('student_grades.db')\n",
        "print(\"Database created and connected!\")"
      ]
    },
    {
      "cell_type": "code",
      "source": [
        "# Create a cursor object\n",
        "cursor = connection.cursor()\n",
        "\n",
        "# Explanation\n",
        "print(\"Cursor created!\")"
      ],
      "metadata": {
        "colab": {
          "base_uri": "https://localhost:8080/"
        },
        "id": "4a2e5EBERDDj",
        "outputId": "654d5aae-c407-49df-9684-3f7b598ee982"
      },
      "execution_count": 2,
      "outputs": [
        {
          "output_type": "stream",
          "name": "stdout",
          "text": [
            "Cursor created!\n"
          ]
        }
      ]
    },
    {
      "cell_type": "code",
      "source": [
        "cursor.execute('''\n",
        "CREATE TABLE IF NOT EXISTS students (\n",
        "    student_id INTEGER PRIMARY KEY AUTOINCREMENT,\n",
        "    first_name TEXT,\n",
        "    last_name TEXT\n",
        ")\n",
        "''')\n",
        "\n",
        "print(\"Sales table created!\")"
      ],
      "metadata": {
        "colab": {
          "base_uri": "https://localhost:8080/"
        },
        "id": "RLeVTVMMRI5G",
        "outputId": "ebe38c58-f607-4d03-ceae-4cdfe9018e8d"
      },
      "execution_count": 3,
      "outputs": [
        {
          "output_type": "stream",
          "name": "stdout",
          "text": [
            "Sales table created!\n"
          ]
        }
      ]
    },
    {
      "cell_type": "code",
      "source": [
        "cursor.execute('''\n",
        "CREATE TABLE IF NOT EXISTS grades (\n",
        "    grade_id INTEGER PRIMARY KEY AUTOINCREMENT,\n",
        "    student_id INTEGER,\n",
        "    subject TEXT,\n",
        "    FOREIGN KEY(student_id) REFERENCES students(student_id)\n",
        ")\n",
        "''')\n",
        "\n",
        "print(\"Sales table created!\")"
      ],
      "metadata": {
        "colab": {
          "base_uri": "https://localhost:8080/"
        },
        "id": "j8g2yGoTRq0n",
        "outputId": "9d2f6fe5-40d5-41e4-dbcb-39ccd150f33c"
      },
      "execution_count": 11,
      "outputs": [
        {
          "output_type": "stream",
          "name": "stdout",
          "text": [
            "Sales table created!\n"
          ]
        }
      ]
    }
  ]
}