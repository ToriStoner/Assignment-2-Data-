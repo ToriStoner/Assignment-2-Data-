{
  "nbformat": 4,
  "nbformat_minor": 0,
  "metadata": {
    "colab": {
      "provenance": [],
      "authorship_tag": "ABX9TyPelDCY0V6AcbQ5cVEV0rSd",
      "include_colab_link": true
    },
    "kernelspec": {
      "name": "python3",
      "display_name": "Python 3"
    },
    "language_info": {
      "name": "python"
    }
  },
  "cells": [
    {
      "cell_type": "markdown",
      "metadata": {
        "id": "view-in-github",
        "colab_type": "text"
      },
      "source": [
        "<a href=\"https://colab.research.google.com/github/ToriStoner/Assignment-2-Data-/blob/main/First_Half_of_Paper_Draft.ipynb\" target=\"_parent\"><img src=\"https://colab.research.google.com/assets/colab-badge.svg\" alt=\"Open In Colab\"/></a>"
      ]
    },
    {
      "cell_type": "code",
      "execution_count": null,
      "metadata": {
        "id": "z6f9Lu8KVn1C"
      },
      "outputs": [],
      "source": []
    },
    {
      "cell_type": "markdown",
      "source": [
        "Summary: This paper addresses the question: what is the change in subject class identification, satisfaction with financial situation, and trend in financial situation across sexes from 2000 to 2022? The research includes a slight focus on three time periods within the time frame: 2001, 2008, and 2019. These time periods are of significance as they include 9/11, the 2008 financial crisis, and the COVID-19 pandemic which could all have an influence on the previously mentioned variables. The data visualization and analysis methods included the production of histograms, count plots, and kernel density estimate plots. These methods were used to evaluate the trends between sexes across different variables and assess whether different time periods had a specific impact on various financial variables.\n",
        "\n",
        "**Add a summary of results to the end of this paragraph\n",
        "\n",
        "Data: The data is from the General Social Survey which is a database containing information on a wide range of variables dating back to 1972. The data was collected by the National Opinion Research Center. The data was collected in the form of cross-sectional interviews that took place nationally. The methods used to collect the data remained as similar as possible over time to ensure that the data from different years could be compared without any external influence from the way the survey questions were worded, the methodology of the sampling, or the way the data was collected. However because the pandemic is one of the time periods this analysis focuses on, it is important to note that in 2021 there were methodological adaptations. The primary variables used in this analysis are sex assigned at birth, year, subjective social class placement (CLASS), satisfaction with financial situation (SATFIN), and trend in financial situation (FINALTER). The sex variable had two categorical responses: female and male. The year variable was numeric and ranged from 2000-2022. The class variable had four categorical responses: middle class, upper class, working class, and lower class. The SATFIN variable had three categorical responses from least to most satisfied with their financial situation: not satisfied at all, more or less satisfied, and pretty well satisfied. The FINALTER variable had three categorical responses ranging from best to worse to describe the participants trend in their financial station: stayed same, better, and worse. One problem that arose during the data reading and cleaning process was the size of the data from the General Social Survey. The data was difficult to download and open, making it very difficult to run the data. It was difficult to verify steps in the data cleaning process as the program would crash due to the size of the data, making the data cleaning process much more time consuming and challenging.\n",
        "\n",
        "Results: Graph 1 and 2 are the same\n",
        "\n",
        "The above histogram compares the SATFIN variable with the sex variable. For each of the three responses: not satisfied at all, more or less satisfied and pretty well satisfied, more women than men were recorded, indicating that more women filled out the survey. For both women and men, the category with the highest number of responses is more or less satisfied. For women, the count for not satisfied at all and pretty well satisfied are similar, both being around 4000, although the count for not satisfied at all is slightly higher than pretty well satisfied. In contrast, there is a higher count for men who responded with pretty well satisfied than not satisfied at all. Another interesting aspect of this graph is that the differences in the count between not satisfied at all and more or less satisfied is similar for both females and males, with the difference being around 2500. It is also important to note that no women in this survey were in the upper class which could influence the responses on the survey because it may not have included a representative sample size.\n",
        "\n",
        "Graph 3\n",
        "\n",
        "The above histogram compares the FINALTER variable with the sex variable. This histogram also indicates that more females than males filled out the survey, which is important to consider when conducting the analysis. For females, the most common response was stayed same, followed by better, then worse. For men, the most common response was better, followed by stayd the same and worse. For males there is not as large of a difference between stayed same and better than there is for females, with the difference being quite small.\n",
        "\n",
        "Graph 4- same as graph 1\n",
        "\n",
        "Graph 5:\n",
        "\n",
        "The above graph is a visual representation of financial situation by year. The financial situation is represented by the SATFIN variable, plotted against 2000-2022. For each year shown in the plot, the most common response was more or less satisfied. The two years in which participants responded with the highest count of more or less satisfied were 2021 and 2022. The years 2002 and 2004 had low counts for all three responses on the satisfaction rate, with the results for each response being very similar both years. This is interesting because these two years represent the years following 9/11 and are much lower than all of the counts for all three response categories in 2000. The counts also increased again in 2006. The two years with the highest count for pretty well satisfied were 2006 and 2021. This is interesting because 2021 was one of the years of interest as it was during the COVID19 Pandemic. In 2021, there is the highest count for more or less satisfied and for pretty well satisfied. However, when comparing the not satisfied at all responses in 2021 to other years, the not satisfied at all count is also higher. When looking at the comparison between 2021 and 2022, the graph demonstrates that the count for not satisfied at all increases while the pretty well satisfied count and the more or less satisfied count also decrease. When looking at 2008, it has the lowest count for more or less satisfied after 2002 and 2004, with the pretty well satisfied count being lower than the not satisfied at all count. When comparing this to the other years, a majority of the counts for pretty well satisfied are higher than not satisfied at all with the exception of 2008, 2010, 2012, and 2022.\n",
        "\n",
        "Graph 6 and 7\n",
        "\n",
        "The previously mentioned graph was a combination of responses for males and females, while the above graphs breakdown the counts separately for men and women. For men, the most common response in each year was more or less satisfied. There is a decline in each response from 200-2002, and similarly to the previous graph, the responses from 2002 and 2004 are very similar. In 2008, the response of not satisfied at all and pretty well satisfied are almost the same, both with a count around 280. When comparing this to 2006, there is a large decline in boh more or less satisfied and pretty well satisfied, where there is a smaller decline for not satisfied at all. In 2021, there is a larger gap between not satisfied at all and pretty well satisfied then in a majority of the other years. In contrast, in 2022, there was a higher count for not satisfied at all than pretty well satisfied, which was also reflected in the graph that combined women and men. This is interesting to consider because the pandemic was still ongoing in 2021 while it began to slow down more in 2022.\n",
        "\n",
        "In the financial situation breakdown by year for females graph, the most common response for all years was more or less satisfied. The differences between the count for pretty well satisfied and not satisfied at all were smaller for women than men, with many years being much closer to being equal or having only a slight difference. Similarly to men, the response for more or less satisfied in 2002 and 2004 is very similar. In contrast to the men, in 2002 for women there was a higher count for not satisfied at all than pretty well satisfied. In 2004, this pattern switched, with the count being slightly higher for pretty well satisfied. In 2008, the count was higher for not satisfied at all than pretty well satisfied for women. This pattern continued after 2008, with not satisfied at all having the second highest count, until 2016. For men, this pattern only continued from 2008 to 2010, which could indicate that the financial crisis impacted women and men differently, and for a different amount of time. In 2021, the difference between pretty well satisfied and not satisfied at all is small, especially in comparison to the men. In 2022, the count for more or less satisfied drops, and the count is higher for not satisfied at all than pretty well satisfied. This pattern was the same in the men, with the satisfaction rates appearing to drop from 2021 to 2022 and the not satisfied at all count being higher than the pretty well satisfied count.\n",
        "\n",
        "Graph 8 --> this xlable should be year\n",
        "\n",
        "The above graph plots the CLASS variable against year for men. The most common responses for every year shown in the graph are middle class and working class. There are very large gaps between these two response categories and lower and upper class for each year. For a majority of the years, there is not a large gap between the count for middle class and working class, with the exception being 2021. In 2021, there were about 270 more responses for the middle class response than for the working class. For each year, the number of responses or upper class is the lowest. In 2002, the number of responses for working class and middle class were very similar. When comparing 2002 and 2004, the count for upper class is very similar, being around 15. The count for lower class is around 30. In 2004, the count for working class decreases slightly, but the counts in both years are very similar. In 2008, the most common response was working class which is interesting because in 2008, the count for not satisfied at all was higher than the count for pretty well satisfied which was a pattern specific to 2008, 2010, and 2022. There was also a fairly steady increase in the lower class count from 2008 to 2022 with very few exceptions. The upper class count remains steady from 2008-2021 where it begins to increase and remain steady in 2022. In 2021, there was an increase in middle class responses, with the largest difference between the count for middle class and working class. In 2022, there is the largest count for the lower class out of all the years, and the middle class count declines from 2021-2022. This reflects the graph plotting SATFIN, as the count for not satisfied at all was higher than the pretty well satisfied.\n",
        "\n",
        "Graph 9:\n",
        "The above graph plots the CLASS variable against year for women. Similarlily to men, the most common responses for every year shown in the graph are middle class and working class. For women from 2000-2018, a majority of the counts are higher for working class than for middle class, and if they aren't higher they are very similar. This changes in 2021, with approximately 200 more counts for middle class than working class. For women, there are more counts for lower class than for men, and there are also less counts for upper class than there are for men. From 2000-2002, there is a decrease in counts for upper class. The counts remain fairly steady from 2002-2004, except that the counts for working class increased slightly in 2004, and the counts for middle class decreased slightly. This graph follows the same pattern as all of the previously mentioned graphs, as there is an increase in the counts for each response in the class variable from 2004 to 2006. From 2006 to 2012, both the upper and lower class counts are steady, even through the 2008 financial crisis. The middle class and working class responses also remain similar, before increasing in 2016. Similarly to the male subjective class placement graph, in 2021 there is an increase in the middle class count and there is the largest difference between middle class and working class counts. This difference decreases in 2022, with the middle class count being only slightly higher for that of the working class. The lower class count and the upper class count are both the highest they have been in all of the shown years in 2021 and 2022. When comparing this graph with the financial satisfaction graph, the count for not satisfied at all increases from 2018 to 2021 and increases in 2022, being higher than the pretty well satisfied count in 2022.\n",
        "\n",
        "\n",
        "\n"
      ],
      "metadata": {
        "id": "3DttC5vEVrUz"
      }
    }
  ]
}