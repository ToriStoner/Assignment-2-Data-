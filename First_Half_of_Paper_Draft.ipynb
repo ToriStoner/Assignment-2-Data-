{
  "nbformat": 4,
  "nbformat_minor": 0,
  "metadata": {
    "colab": {
      "provenance": [],
      "authorship_tag": "ABX9TyNW5yxzD7ntw04vrBj2gOLS",
      "include_colab_link": true
    },
    "kernelspec": {
      "name": "python3",
      "display_name": "Python 3"
    },
    "language_info": {
      "name": "python"
    }
  },
  "cells": [
    {
      "cell_type": "markdown",
      "metadata": {
        "id": "view-in-github",
        "colab_type": "text"
      },
      "source": [
        "<a href=\"https://colab.research.google.com/github/ToriStoner/Assignment-2-Data-/blob/main/First_Half_of_Paper_Draft.ipynb\" target=\"_parent\"><img src=\"https://colab.research.google.com/assets/colab-badge.svg\" alt=\"Open In Colab\"/></a>"
      ]
    },
    {
      "cell_type": "code",
      "execution_count": null,
      "metadata": {
        "id": "z6f9Lu8KVn1C"
      },
      "outputs": [],
      "source": []
    },
    {
      "cell_type": "markdown",
      "source": [
        "Summary: This paper addresses the question: what is the change in subject class identification, satisfaction with financial situation, and trend in financial situation across sexes from 2000 to 2022? The research includes a slight focus on three time periods within the time frame: 2001, 2008, and 2019. These time periods are of significance as they include 9/11, the 2008 financial crisis, and the COVID-19 pandemic which could all have an influence on the previously mentioned variables. The data visualization and analysis methods included the production of histograms, countplots, and kernel density estimate plots. These methods were used to evaluate the trends between sexes across different variables and assess whether different time periods had a specific impact on various financial variables.\n",
        "\n",
        "Data: The data is from the General Social Survey which is a database containing information on a wide range of variables dating back to 1972. The data was collected by the National Opinion Research Center. The primary variables used in this analysis are sex assigned at birth, year, subjective social class placement (CLASS), satisfaction with financial situation (SATFIN), and trend in financial situation (FINALTER). The sex variable had two categorical responses: female and male. The year variable was numeric and ranged from 200-2022. The class variable had four categorical responses: middle class, upper class, working class, and lower class. The SATFIN variable had three categorical responses from least to most satisfied with their financial situation: not satisfied at all, more or less satisfied, and pretty well satisfied. The FINALTER variable had three categorical responses ranging from best to worse to describe the participants trend in their financial station: stayed same, better, and worse. One problem that arised during the data reading and cleaning process was the size of the data from the General Social Survey. The data was difficult to download and open, making it very difficult to run the data. It was difficult to verify steps in the data cleaning process as the program would crash due to the size of the data, making the data cleaning process much more time consuming and challenging.\n",
        "\n",
        "Results: Graph 1 and 2 are the same\n",
        "\n",
        "The above histogram compares the SATFIN variable with the sex variable. For each of the three resposes: not satisfied at all, more or less satisfied and pretty well satisfied, more women than men were recorded, indicating that more women filled out the survey. For both women and men, the category with the highest number of responses is more or less satisfied. For women, the count for not satisfied at all and pretty well satisfied are similar, both being around 4000, although the count for not satisfied at all is slightly higher than pretty well satisfied. In contrast, there is a higher count for men who responded with pretty well satisfied than not satisfied at all. Another interesting aspect of this graph is that the differences in the count between not satisfied at all and more or less satisfied is similar for both females and males, with the difference being around 2500. It is also important to note that no women in this survey were in the upper class which could influence the responses on the survey because it may not have included a representative sample size.\n",
        "\n",
        "Graph 3\n",
        "\n",
        "The above historgram compares the FINALTER variable with the sex variable. This histogram also indicates that more females than males filled out the survey, which is important to consider when conducting the analysis. For females, the most common response was stayed same, followed by better, then worse. For men, the most common response was better, followed by stayd the same and worse. For males there is not as large of a difference between stayed same and better than there is for females, with the difference being quite small.\n",
        "\n",
        "Graph 4- same as graph 1\n",
        "\n",
        "Graph 5:\n",
        "\n",
        "The above graph is a visual representation of financial situation by year. The financial situation is represented by the SATFIN variable, plotted against 2000-2022. For each year shown in the plot, the most common response was more or less satisfied. The two years in which participants responded with the highest count of more or less satisfied were 2021 and 2022. The years 2002 and 2004 had low counts for all three responses on the satisfaction rate, with the results for each response being very similar both years. This is interesting because these two years represent the years following 9/11 and are much lower than all of the counts for all three response categories in 2000. The counts also increase again in 2006. The two years with the highest count for pretty well satisfied were 2006 and 2021. This is interesting because 2021 was one of the years of interest as it was during the COVID19 Pandemic. In 2021, there is the highest count for more or less satisfied and for pretty well satisfied. However, when comparing the not satisfied at all responses in 2021 to other years, the not satisfied at all count is also higher. When looking at the comparison between 2021 and 2022, the graph demonstrates that the count for not satisfied at all increases while the pretty well satisfied count and the more or less satisfied count also decrease. When looking at 2008, it has the lowest count for more or less satisfied after 2002 and 2004, with the pretty well satisfied count being lower than the not satisfied at all count. When comparing this to the other years, a majority of the counts for pretty well satisfied are higher than not satisfied at all with the exception of 2008, 2010, 2012, and 2022.\n",
        "\n",
        "Graph 6 and 7\n",
        "\n",
        "The previously mentioned graph was a combination of responses for males and females, while the above graphs breakdown the counts separately for men and women.\n",
        "\n",
        "\n",
        "\n"
      ],
      "metadata": {
        "id": "3DttC5vEVrUz"
      }
    }
  ]
}